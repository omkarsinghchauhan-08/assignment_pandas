{
 "cells": [
  {
   "cell_type": "code",
   "execution_count": 1,
   "id": "cc0c469a-fffe-4145-acd8-b9fba1655e9a",
   "metadata": {},
   "outputs": [
    {
     "name": "stdout",
     "output_type": "stream",
     "text": [
      "0     4\n",
      "1     8\n",
      "2    15\n",
      "3    16\n",
      "4    23\n",
      "5    42\n",
      "dtype: int64\n"
     ]
    }
   ],
   "source": [
    "#ques 1 creating a pandas series\n",
    "import pandas as pd \n",
    "ser = pd.Series([4,8,15,16,23,42])\n",
    "print(ser)\n"
   ]
  },
  {
   "cell_type": "code",
   "execution_count": 2,
   "id": "6e93668d-0174-4917-8bba-981836c7dd89",
   "metadata": {},
   "outputs": [
    {
     "name": "stdout",
     "output_type": "stream",
     "text": [
      "0      omkar\n",
      "1     singh \n",
      "2    Chauhan\n",
      "dtype: object\n"
     ]
    }
   ],
   "source": [
    "#ques 2\n",
    "import pandas as pd \n",
    "x=pd.Series(['omkar' , 'singh ', 'Chauhan'])\n",
    "print(x)\n"
   ]
  },
  {
   "cell_type": "code",
   "execution_count": 3,
   "id": "4e4f64b3-bfbf-4c7c-a1e7-98e68982e867",
   "metadata": {},
   "outputs": [
    {
     "name": "stdout",
     "output_type": "stream",
     "text": [
      "     Name Age  Gender\n",
      "0   Alice  25  Female\n",
      "1     BoB  30    Male\n",
      "2  Claire  27  Female\n"
     ]
    }
   ],
   "source": [
    "#ques 3\n",
    "data = [['Alice', '25' , 'Female'],['BoB' , '30' ,'Male'],['Claire','27','Female']]\n",
    "df = pd.DataFrame(data, columns=['Name','Age','Gender'])\n",
    "print(df)\n"
   ]
  },
  {
   "cell_type": "code",
   "execution_count": 4,
   "id": "db939928-9d94-4aab-928b-6c12f9e5258e",
   "metadata": {},
   "outputs": [
    {
     "name": "stdout",
     "output_type": "stream",
     "text": [
      "Mon      22\n",
      "Tues     23\n",
      "Wed      23\n",
      "Thurs    24\n",
      "Fri      23\n",
      "Sat      22\n",
      "Sun      21\n",
      "Name: series_from_dict, dtype: int64\n"
     ]
    }
   ],
   "source": [
    "#ques4 \n",
    "# Pandas Data Frame is two -dimensional size-mutable,potentially hetrogeneous tabular data structure with labeled axes(rows,column)\n",
    "# PandasDataFrame consist of three principal components,the data,rows and columns.\n",
    "#and pandas.series is a 1-d array of data ,but a single column DataFrame is a 2D table with one column\n",
    "#pandas.Series\n",
    "#Creating a Series from dict\n",
    "data = {'Mon': 22, 'Tues': 23, 'Wed': 23, 'Thurs': 24, 'Fri': 23, 'Sat': 22, 'Sun': 21}\n",
    "series = pd.Series(data=data, name='series_from_dict')\n",
    "print(series)"
   ]
  },
  {
   "cell_type": "code",
   "execution_count": 5,
   "id": "4b9a81fe-05a7-4d0c-ab07-b12aa079064b",
   "metadata": {},
   "outputs": [
    {
     "name": "stdout",
     "output_type": "stream",
     "text": [
      "   A   B\n",
      "0  1   5\n",
      "1  3   9\n",
      "2  4  12\n"
     ]
    }
   ],
   "source": [
    "#ques5\n",
    "# pandas.DataFrame()\n",
    "import pandas \n",
    "DataFrame = pandas.DataFrame({\"A\" : [1,3,4] , \"B\" :[5,9,12]})\n",
    "print(DataFrame) "
   ]
  },
  {
   "cell_type": "code",
   "execution_count": 2,
   "id": "591c563e-1c8c-4994-9247-2a60910ea5b0",
   "metadata": {},
   "outputs": [],
   "source": [
    "#ques 6 \n",
    "#ans - DataFrame is mutable in nature"
   ]
  },
  {
   "cell_type": "code",
   "execution_count": 3,
   "id": "1e7fe04a-903f-4009-a46e-066607bc0724",
   "metadata": {},
   "outputs": [
    {
     "name": "stdout",
     "output_type": "stream",
     "text": [
      "   Column1  Column2  Column3\n",
      "0        1        4        7\n",
      "1        2        5        8\n",
      "2        3        6        9\n"
     ]
    }
   ],
   "source": [
    "#ques 7\n",
    "import pandas as pd\n",
    "\n",
    "series1 = pd.Series([1, 2, 3])\n",
    "series2 = pd.Series([4, 5, 6])\n",
    "series3 = pd.Series([7, 8, 9])\n",
    "\n",
    "data = {'Column1': series1,\n",
    "        'Column2': series2,\n",
    "        'Column3': series3}\n",
    "\n",
    "df = pd.DataFrame(data)\n",
    "\n",
    "print(df)\n"
   ]
  },
  {
   "cell_type": "code",
   "execution_count": 9,
   "id": "8dafb96d-3cce-4dbc-8909-9748c868fad2",
   "metadata": {},
   "outputs": [],
   "source": [
    "#unique and nunique function\n",
    "#describe function\n",
    "#sort_values function\n",
    "#value_counts function\n",
    "#isnull function to find NULL values\n",
    "#fillna function to fill NULL values\n",
    "#groupby function\n",
    "#map function and its use for categorical encoding\n",
    "#apply function and lambda function\n",
    "#pivot function\n",
    "\n"
   ]
  },
  {
   "cell_type": "code",
   "execution_count": null,
   "id": "7ea1a650-06b2-428a-ac74-c3c4215d2967",
   "metadata": {},
   "outputs": [],
   "source": []
  }
 ],
 "metadata": {
  "kernelspec": {
   "display_name": "Python 3 (ipykernel)",
   "language": "python",
   "name": "python3"
  },
  "language_info": {
   "codemirror_mode": {
    "name": "ipython",
    "version": 3
   },
   "file_extension": ".py",
   "mimetype": "text/x-python",
   "name": "python",
   "nbconvert_exporter": "python",
   "pygments_lexer": "ipython3",
   "version": "3.10.8"
  }
 },
 "nbformat": 4,
 "nbformat_minor": 5
}
